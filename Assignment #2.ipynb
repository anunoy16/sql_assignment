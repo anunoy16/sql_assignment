{
    "metadata": {
        "kernelspec": {
            "name": "python3",
            "display_name": "Python 3 (ipykernel)",
            "language": "python"
        },
        "language_info": {
            "name": "python",
            "version": "3.10.4",
            "mimetype": "text/x-python",
            "codemirror_mode": {
                "name": "ipython",
                "version": 3
            },
            "pygments_lexer": "ipython3",
            "nbconvert_exporter": "python",
            "file_extension": ".py"
        }
    },
    "nbformat_minor": 2,
    "nbformat": 4,
    "cells": [
        {
            "cell_type": "code",
            "source": [
                "# employee data with key as id of the employee and values as age of the employee\n",
                "Employee_data ={101: 43, 102: 25, 103: 43, 104: 31, 105: 26, 106: 28, 107: 29, 108: 43, 109: 25, 110: 22, 111: 22, 112: 25, 113: 30, 115: 45, 116: 23, 117: 29, 118: 28, 119: 30, 120: 28, 121: 42, 122: 39, 123: 29, 124: 42, 125: 43, 126: 42, 127: 40, 128: 27, 129: 23, 130: 30, 131: 37, 132: 20, 133: 36, 134: 27, 135: 27, 136: 22, 137: 28, 138: 23, 139: 45, 140: 39, 141: 29, 142: 33, 143: 39, 145: 34, 146: 26, 147: 30, 148: 38, 149: 29, 150: 24, 151: 28, 152: 34, 153: 42, 154: 29, 155: 23, 156: 31, 158: 25, 160: 45, 161: 42, 162: 27, 163: 24, 164: 20, 166: 24, 167: 28, 168: 20, 169: 33, 170: 34, 171: 37, 172: 45, 173: 35, 174: 23, 175: 44, 176: 27, 177: 30, 178: 26, 179: 27} "
            ],
            "metadata": {
                "azdata_cell_guid": "affb4675-ceeb-4842-8a17-77ca286c957b",
                "language": "python"
            },
            "outputs": [],
            "execution_count": 2
        },
        {
            "cell_type": "markdown",
            "source": [
                "#### Identify the senior most employees age\n",
                "\n",
                "- 45\n",
                "- 44\n",
                "- 48\n",
                "- 42"
            ],
            "metadata": {
                "azdata_cell_guid": "56bb596e-400b-41ea-9c68-ea78a9f3b2f9"
            }
        },
        {
            "cell_type": "code",
            "source": [
                "max(list(Employee_data.values()))"
            ],
            "metadata": {
                "azdata_cell_guid": "c36dd379-3a9d-4d75-af4b-783b2df4655c",
                "language": "python"
            },
            "outputs": [
                {
                    "data": {
                        "text/plain": "45"
                    },
                    "metadata": {},
                    "execution_count": 3,
                    "output_type": "execute_result"
                }
            ],
            "execution_count": 3
        },
        {
            "cell_type": "markdown",
            "source": [
                "#### Identify the age of the employee with employee id 159 [ If the employee isn't present return NA]\n",
                "\n",
                "- 25\n",
                "- 32\n",
                "- NA\n",
                "- 42"
            ],
            "metadata": {
                "azdata_cell_guid": "8540832c-8574-449b-b431-ddb0db388e8a"
            }
        },
        {
            "cell_type": "code",
            "source": [
                "# Type your code here\r\n",
                "\r\n",
                "print(Employee_data.get(159,'NA'))"
            ],
            "metadata": {
                "azdata_cell_guid": "38ae6f2c-8688-4993-8c72-3f884d149a86",
                "language": "python"
            },
            "outputs": [
                {
                    "name": "stdout",
                    "text": "NA\n",
                    "output_type": "stream"
                }
            ],
            "execution_count": 4
        },
        {
            "cell_type": "markdown",
            "source": [
                "#### Count the total number of employee in the organization\n",
                "\n",
                "- 79\n",
                "- 78\n",
                "- 60\n",
                "- 74"
            ],
            "metadata": {
                "azdata_cell_guid": "2eda189b-9751-40da-87e7-6d0331da9293"
            }
        },
        {
            "cell_type": "code",
            "source": [
                "# Type your code here\r\n",
                "list1=list(Employee_data.keys())\r\n",
                "print(\"The total no of employees are \",len(list1))"
            ],
            "metadata": {
                "azdata_cell_guid": "0433d09a-df6e-4700-a850-4dd3b44e4412",
                "language": "python"
            },
            "outputs": [
                {
                    "name": "stdout",
                    "text": "The total no of employees are  74\n",
                    "output_type": "stream"
                }
            ],
            "execution_count": 5
        },
        {
            "cell_type": "markdown",
            "source": [
                "#### Calculate the mean age of the employees\n",
                "\n",
                "- 31.36\n",
                "- 36.48\n",
                "- 28.77\n",
                "- 32.47"
            ],
            "metadata": {
                "azdata_cell_guid": "d5e9eca5-47f2-48dc-a4d8-21c44322f727"
            }
        },
        {
            "cell_type": "code",
            "source": [
                "# Type your code here\r\n",
                "import numpy as np\r\n",
                "list1 = list(Employee_data.values())\r\n",
                "print(\"The mean age is \",np.mean(list1))"
            ],
            "metadata": {
                "azdata_cell_guid": "175b1b5d-4cb5-4ab9-933d-79d9330ea99b",
                "language": "python"
            },
            "outputs": [
                {
                    "name": "stdout",
                    "text": "The mean age is  31.364864864864863\n",
                    "output_type": "stream"
                }
            ],
            "execution_count": 6
        },
        {
            "cell_type": "markdown",
            "source": [
                "#### Perform the following two tasks and then calculate the updated mean age of the employees\n",
                "Task1 Update the ages of employee id - 104,140, and 164 as 27 <br>\n",
                "Task2 Remove the employ with employee id - 143 <br>\n",
                "\n",
                "- 30.71\n",
                "- 31.36\n",
                "- 30.13\n",
                "- 31.13\n"
            ],
            "metadata": {
                "azdata_cell_guid": "a32f7817-8996-45f7-b886-1a72e3996ab6"
            }
        },
        {
            "cell_type": "code",
            "source": [
                "# Type your code here\r\n",
                "Employee_data.update({104:27,140:27,164:27})\r\n",
                "Employee_data.pop(143)"
            ],
            "metadata": {
                "azdata_cell_guid": "cda895f3-3838-452c-9a7e-834a050c64b6",
                "language": "python"
            },
            "outputs": [
                {
                    "data": {
                        "text/plain": "39"
                    },
                    "metadata": {},
                    "execution_count": 7,
                    "output_type": "execute_result"
                }
            ],
            "execution_count": 7
        },
        {
            "cell_type": "code",
            "source": [
                "Employee_data.get(143,\"NA\")"
            ],
            "metadata": {
                "language": "python",
                "azdata_cell_guid": "41893d47-cc89-4f25-98cb-1bce1b963492"
            },
            "outputs": [
                {
                    "data": {
                        "text/plain": "'NA'"
                    },
                    "metadata": {},
                    "execution_count": 8,
                    "output_type": "execute_result"
                }
            ],
            "execution_count": 8
        },
        {
            "cell_type": "code",
            "source": [
                "sum(Employee_data.values())/len(Employee_data.keys())"
            ],
            "metadata": {
                "language": "python",
                "azdata_cell_guid": "4384cbe6-c253-4623-a61e-af273845054b"
            },
            "outputs": [
                {
                    "data": {
                        "text/plain": "31.136986301369863"
                    },
                    "metadata": {},
                    "execution_count": 10,
                    "output_type": "execute_result"
                }
            ],
            "execution_count": 10
        }
    ]
}