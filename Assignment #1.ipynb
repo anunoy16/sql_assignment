{
    "metadata": {
        "kernelspec": {
            "name": "python3",
            "display_name": "Python 3 (ipykernel)",
            "language": "python"
        },
        "language_info": {
            "name": "python",
            "version": "3.10.4",
            "mimetype": "text/x-python",
            "codemirror_mode": {
                "name": "ipython",
                "version": 3
            },
            "pygments_lexer": "ipython3",
            "nbconvert_exporter": "python",
            "file_extension": ".py"
        }
    },
    "nbformat_minor": 2,
    "nbformat": 4,
    "cells": [
        {
            "cell_type": "code",
            "source": [
                "# List of order ID’s which are processed \n",
                "processed_orders = [1152, 1154, 1155, 1156, 1157, 1160, 1161, 1162, 1166, 1169, 1170, 1172, 1176, 1050, 1178, 1051, 1052, 1054, 1058, 1060, 1061, 1062, 1065, 1066, 1067, 1068, 1069, 1076, 1077, 1080, 1081, 1083, 1091, 1085, 1088, 1089, 1131, 1092, 1094, 1095, 1099, 1102, 1103, 1104, 1106, 1107, 1108, 1109, 1111, 1117, 1119, 1121, 1150, 1128, 1129, 1136, 1137, 1139, 1140, 1141, 1144, 1148, 1124]\n",
                "\n",
                "# List of order ID’s which are returned\n",
                "returned_orders = [1153, 1158, 1159, 1163, 1164, 1165, 1167, 1168, 1171, 1173, 1174, 1175, 1177, 1053, 1055, 1056, 1057, 1059, 1063, 1064, 1070, 1071, 1072, 1073, 1074, 1075, 1078, 1079, 1082, 1084, 1086, 1087, 1090, 1093, 1096, 1097, 1098, 1100, 1101, 1105, 1110, 1112, 1113, 1114, 1115, 1116, 1118, 1120, 1122, 1123, 1125, 1126, 1127, 1130, 1132, 1133, 1134, 1135, 1138, 1142, 1143, 1145, 1146, 1147, 1149, 1151]\n",
                "\n",
                "# Consider the information available in the above two lists and answer the question given below"
            ],
            "metadata": {
                "collapsed": true,
                "azdata_cell_guid": "f06f9f79-8aa3-4267-88f3-2cbe4040fed4",
                "language": "python",
                "tags": []
            },
            "outputs": [],
            "execution_count": 72
        },
        {
            "cell_type": "markdown",
            "source": [
                "#### Count the total number of orders [ Orders include both processed and returned orders]\n",
                "\n",
                "- 63\n",
                "- 66\n",
                "- 126\n",
                "- 129"
            ],
            "metadata": {
                "azdata_cell_guid": "9485c2bf-34da-41e6-8799-3a68dea773c6"
            }
        },
        {
            "cell_type": "code",
            "source": [
                "# Type your code here\r\n",
                "processed_orders.extend(returned_orders)\r\n",
                "len(processed_orders)"
            ],
            "metadata": {
                "collapsed": true,
                "azdata_cell_guid": "e3b18c5d-da33-44e3-a3a4-c56ca9922954",
                "language": "python",
                "tags": []
            },
            "outputs": [
                {
                    "data": {
                        "text/plain": "129"
                    },
                    "metadata": {},
                    "execution_count": 73,
                    "output_type": "execute_result"
                }
            ],
            "execution_count": 73
        },
        {
            "cell_type": "markdown",
            "source": [
                "#### In the total orders, identify the 50th order [ Note: Assume the order ID’s are being generated in a consecutive manner]\n",
                "\n",
                "- 1152\n",
                "- 1099\n",
                "- 1154\n",
                "- 1100\n"
            ],
            "metadata": {
                "azdata_cell_guid": "23bb89d5-9f99-46f0-b33b-fd8dbf374006"
            }
        },
        {
            "cell_type": "code",
            "source": [
                "\r\n",
                "processed_orders = [1152, 1154, 1155, 1156, 1157, 1160, 1161, 1162, 1166, 1169, 1170, 1172, 1176, 1050, 1178, 1051, 1052, 1054, 1058, 1060, 1061, 1062, 1065, 1066, 1067, 1068, 1069, 1076, 1077, 1080, 1081, 1083, 1091, 1085, 1088, 1089, 1131, 1092, 1094, 1095, 1099, 1102, 1103, 1104, 1106, 1107, 1108, 1109, 1111, 1117, 1119, 1121, 1150, 1128, 1129, 1136, 1137, 1139, 1140, 1141, 1144, 1148, 1124]\r\n",
                "\r\n",
                "returned_orders = [1153, 1158, 1159, 1163, 1164, 1165, 1167, 1168, 1171, 1173, 1174, 1175, 1177, 1053, 1055, 1056, 1057, 1059, 1063, 1064, 1070, 1071, 1072, 1073, 1074, 1075, 1078, 1079, 1082, 1084, 1086, 1087, 1090, 1093, 1096, 1097, 1098, 1100, 1101, 1105, 1110, 1112, 1113, 1114, 1115, 1116, 1118, 1120, 1122, 1123, 1125, 1126, 1127, 1130, 1132, 1133, 1134, 1135, 1138, 1142, 1143, 1145, 1146, 1147, 1149, 1151]\r\n",
                "\r\n",
                "total = processed_orders+returned_orders\r\n",
                "\r\n",
                "total.sort()\r\n",
                "\r\n",
                "print(total[50])\r\n",
                "\r\n",
                ""
            ],
            "metadata": {
                "azdata_cell_guid": "c4979cc2-1160-4170-8955-99034bd18fd0",
                "language": "python"
            },
            "outputs": [
                {
                    "name": "stdout",
                    "text": "1100\n",
                    "output_type": "stream"
                }
            ],
            "execution_count": 105
        },
        {
            "cell_type": "markdown",
            "source": [
                "#### Is 50th order a returned order or processed order?\n",
                "\n",
                "- Returned Order\n",
                "- Processed Order\n"
            ],
            "metadata": {
                "azdata_cell_guid": "ffa52e6b-7872-4760-961d-065a9438c574"
            }
        },
        {
            "cell_type": "code",
            "source": [
                "if total[50] in processed_orders:\r\n",
                "          print(total[50],\" is a process order \")\r\n",
                "else :\r\n",
                "  print(\"in return order\")   "
            ],
            "metadata": {
                "azdata_cell_guid": "9b99e586-400c-45c2-a642-c609a379c5e0",
                "language": "python"
            },
            "outputs": [
                {
                    "name": "stdout",
                    "text": "in return order\n",
                    "output_type": "stream"
                }
            ],
            "execution_count": 111
        },
        {
            "cell_type": "markdown",
            "source": [
                "#### What is the last processed order ID ? [ Note: Assume the order ID’s are being generated in a consecutive manner]\n",
                "\n",
                "- 1050\n",
                "- 1178\n",
                "- 1124\n",
                "- 1177\n",
                "\n"
            ],
            "metadata": {
                "azdata_cell_guid": "78d44e8c-d7e9-40e4-9f6f-280f6e3d24e9"
            }
        },
        {
            "cell_type": "code",
            "source": [
                "\n",
                "print(total[-2])\n",
                ""
            ],
            "metadata": {
                "collapsed": true,
                "azdata_cell_guid": "c1f7bc63-2a9f-469a-9ef9-76035b52ed94",
                "language": "python"
            },
            "outputs": [
                {
                    "name": "stdout",
                    "text": "1177\n",
                    "output_type": "stream"
                }
            ],
            "execution_count": 115
        },
        {
            "cell_type": "code",
            "source": [],
            "metadata": {
                "collapsed": true,
                "azdata_cell_guid": "4760addc-1f6a-4512-b053-76c72a1d8e51",
                "language": "python"
            },
            "outputs": [],
            "execution_count": null
        },
        {
            "cell_type": "markdown",
            "source": [
                "#### Identify the first 4 orders which are processed?\n",
                "\n",
                "- 1152, 1154, 1155, 1156\n",
                "- 1051, 1152, 1153, 1154\n",
                "- 1050, 1051, 1052, 1054\n",
                "- 1050, 1051, 1052, 1053"
            ],
            "metadata": {
                "azdata_cell_guid": "9e5fe2c9-b4ac-4037-957f-c7a89d46dd59"
            }
        },
        {
            "cell_type": "code",
            "source": [
                "total[:4]"
            ],
            "metadata": {
                "collapsed": true,
                "azdata_cell_guid": "2c6238de-3f08-411b-b68e-cbcef05201d6",
                "language": "python"
            },
            "outputs": [
                {
                    "data": {
                        "text/plain": "[1050, 1051, 1052, 1053]"
                    },
                    "metadata": {},
                    "execution_count": 117,
                    "output_type": "execute_result"
                }
            ],
            "execution_count": 117
        },
        {
            "cell_type": "code",
            "source": [],
            "metadata": {
                "collapsed": true,
                "azdata_cell_guid": "654f928b-6952-4f3f-9111-594230e1a421",
                "language": "python"
            },
            "outputs": [],
            "execution_count": null
        }
    ]
}