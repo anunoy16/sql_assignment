{
    "metadata": {
        "kernelspec": {
            "name": "python3",
            "display_name": "Python 3 (ipykernel)",
            "language": "python"
        },
        "language_info": {
            "name": "python",
            "version": "3.10.4",
            "mimetype": "text/x-python",
            "codemirror_mode": {
                "name": "ipython",
                "version": 3
            },
            "pygments_lexer": "ipython3",
            "nbconvert_exporter": "python",
            "file_extension": ".py"
        }
    },
    "nbformat_minor": 2,
    "nbformat": 4,
    "cells": [
        {
            "cell_type": "markdown",
            "source": [
                "##### Q1\n",
                "\n",
                "What will the output be of ((500//7) % 5) ** 3?"
            ],
            "metadata": {
                "azdata_cell_guid": "10c3e52b-f80f-420a-9856-f606bc94fb1f"
            }
        },
        {
            "cell_type": "code",
            "source": [
                "((500//7) % 5) ** 3"
            ],
            "metadata": {
                "azdata_cell_guid": "4ce7e6f2-7a37-4bad-ad25-8bd51544424b",
                "language": "python"
            },
            "outputs": [
                {
                    "data": {
                        "text/plain": "1"
                    },
                    "metadata": {},
                    "execution_count": 3,
                    "output_type": "execute_result"
                }
            ],
            "execution_count": 3
        },
        {
            "cell_type": "markdown",
            "source": [
                "##### Q2\n",
                "\n",
                "How will you extract ‘love’ from the string S = “I love Python”? (More than one option may be correct.)."
            ],
            "metadata": {
                "azdata_cell_guid": "964a09f5-6e8d-42e9-a4f4-ba8081abf049"
            }
        },
        {
            "cell_type": "code",
            "source": [
                "S = (\"I Love Python\")\r\n",
                "S[2:6]"
            ],
            "metadata": {
                "azdata_cell_guid": "4c7a69b6-ccd7-4f63-8be4-ed8949090190",
                "language": "python"
            },
            "outputs": [
                {
                    "data": {
                        "text/plain": "'Love'"
                    },
                    "metadata": {},
                    "execution_count": 8,
                    "output_type": "execute_result"
                }
            ],
            "execution_count": 8
        },
        {
            "cell_type": "markdown",
            "source": [
                "##### Q3\n",
                "\n",
                "What will the output of 3 * 3 ** 3 be?"
            ],
            "metadata": {
                "azdata_cell_guid": "e106abcc-d407-4248-a457-1ab3d9caced7"
            }
        },
        {
            "cell_type": "code",
            "source": [
                " 3 * 3 ** 3"
            ],
            "metadata": {
                "azdata_cell_guid": "43efea7b-03a9-41d7-9e74-7ca6f861fb6e",
                "language": "python"
            },
            "outputs": [
                {
                    "data": {
                        "text/plain": "81"
                    },
                    "metadata": {},
                    "execution_count": 9,
                    "output_type": "execute_result"
                }
            ],
            "execution_count": 9
        },
        {
            "cell_type": "markdown",
            "source": [
                "##### Q4\n",
                "\n",
                "If you have a tuple T = (3, 5, 7, 11), what will the output of T.append(9) be?"
            ],
            "metadata": {
                "azdata_cell_guid": "ac124660-5215-4a7d-be47-752d8b287c99"
            }
        },
        {
            "cell_type": "code",
            "source": [
                "# append function is not availabel in TUPPLE, to use append the tupple needs to convert into a list."
            ],
            "metadata": {
                "azdata_cell_guid": "d0c139b4-db5c-4b5b-94cf-879774be5e69",
                "language": "python"
            },
            "outputs": [],
            "execution_count": null
        },
        {
            "cell_type": "markdown",
            "source": [
                "##### Q5\n",
                "\n",
                "What will the output of the following program be?\n",
                "\n",
                "L1 = ['Vikas', 'Akshay', 'Sanskar', 'Mahima']\n",
                "\n",
                "print(L1[1][-1])"
            ],
            "metadata": {
                "azdata_cell_guid": "a39dbfcb-68cd-4cc4-ba2d-d7f2e84613ad"
            }
        },
        {
            "cell_type": "code",
            "source": [
                "L1 = ['Vikas', 'Akshay', 'Sanskar', 'Mahima']\r\n",
                "\r\n",
                "print(L1[1][-1])"
            ],
            "metadata": {
                "azdata_cell_guid": "686c3cc3-3868-45d5-b051-124a1738e4c9",
                "language": "python"
            },
            "outputs": [
                {
                    "name": "stdout",
                    "text": "y\n",
                    "output_type": "stream"
                }
            ],
            "execution_count": 12
        },
        {
            "cell_type": "markdown",
            "source": [
                "##### Q6\n",
                "\n",
                "What will be the output ?\n",
                "\n",
                "l = [32, 34, 12, 27, 33]\n",
                "\n",
                "l.append([14, 19])\n",
                "\n",
                "print(len(l))"
            ],
            "metadata": {
                "azdata_cell_guid": "efea82d1-1a5a-4f39-8987-5109fdb5d8f2"
            }
        },
        {
            "cell_type": "code",
            "source": [
                "l = [32, 34, 12, 27, 33]\r\n",
                "\r\n",
                "l.append([14, 19])"
            ],
            "metadata": {
                "azdata_cell_guid": "8d911496-ae9b-485b-8ed0-5fa67f96b268",
                "language": "python"
            },
            "outputs": [],
            "execution_count": 13
        },
        {
            "cell_type": "code",
            "source": [
                "len(l)"
            ],
            "metadata": {
                "language": "python",
                "azdata_cell_guid": "e386ce0a-2633-43b3-ac2d-d06e7a44f410"
            },
            "outputs": [
                {
                    "data": {
                        "text/plain": "6"
                    },
                    "metadata": {},
                    "execution_count": 15,
                    "output_type": "execute_result"
                }
            ],
            "execution_count": 15
        }
    ]
}